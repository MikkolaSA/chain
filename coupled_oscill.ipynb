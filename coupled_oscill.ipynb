{
 "cells": [
  {
   "cell_type": "markdown",
   "metadata": {},
   "source": [
    "# Nonlinear oscillator coupled to a chain of linear oscillators"
   ]
  },
  {
   "cell_type": "markdown",
   "metadata": {},
   "source": [
    "We want to solve a system for a nonlinear oscillator coupled to an infinite chain of linear oscillators. At first, lets start with a following system for 100 oscillators:\n",
    "$$\n",
    "\\begin{cases}\n",
    "M\\ddot x_1 + k x_1 - k x_2 = F(x,t)\n",
    "\\\\\n",
    "m\\ddot x_j + 2k x_j - k x_{j-1} - k x_{j+1} = 0, j=2,..,99\n",
    "\\\\\n",
    "m\\ddot x_{100} + 2 k x_{100} - k x_{99} = 0\n",
    "\\end{cases}\n",
    "$$"
   ]
  },
  {
   "cell_type": "markdown",
   "metadata": {},
   "source": [
    "After nondimensionalization we get:\n",
    "$$\n",
    "\\begin{cases}\n",
    "\\ddot X_1 + X_1 - X_2 = f\n",
    "\\\\\n",
    "\\ddot X_j + \\frac{q^2}{2} X_j - \\frac{q^2}{4} X_{j-1} - \\frac{q^2}{4} X_{j+1} = 0, j=2,..,99\n",
    "\\\\\n",
    "\\ddot X_{100} +  \\frac{q^2}{2} X_{100} - \\frac{q^2}{4} X_{99} = 0\n",
    "\\end{cases}\n",
    "$$\n",
    "Here, f is $\\frac{F}{ak}$, but we consider $a=1$, and $q$ is $2\\sqrt{\\frac{M}{m}}$."
   ]
  },
  {
   "cell_type": "markdown",
   "metadata": {},
   "source": [
    "Now we want to solve this using Finite difference method. To do this, we consider\n",
    "$$\\ddot x(t)=\\frac{x(t+\\tau)-2x(t)+x(t-\\tau)}{\\tau^2}$$\n",
    "Here, $\\tau$ is our time step. Using this, for our system we get\n",
    "$$\n",
    "\\begin{cases}\n",
    "X_1(t+\\tau)=\\tau^2\\left(f(t)-X_1(t)+X_2(t)\\right) + 2X_1(t)-X_1(t-\\tau)\n",
    "\\\\\n",
    "X_j(t+\\tau)=\\frac{q^2\\tau^2}{4}\\left(X_{j-1}(t)+X_{j+1}(t)-2X_j(t)\\right) + 2X_j(t)-X_j(t-\\tau), j=2,..,99\\\\\n",
    "X_{100}(t+\\tau)=\\frac{q^2\\tau^2}{4}\\left(X_{99}(t)-2X_{100}(t)\\right)+2X_{100}(t)-X_{100}(t-\\tau)\n",
    "\\end{cases}\n",
    "$$"
   ]
  },
  {
   "cell_type": "markdown",
   "metadata": {},
   "source": [
    "So, as we can see, to count the current state of the oscillator, we will need its 2 previous states. Will keep them by using lists named 'XN' for $X(t)$ and 'XMTau' for $X(t-\\tau)$"
   ]
  },
  {
   "cell_type": "code",
   "execution_count": 1,
   "metadata": {},
   "outputs": [],
   "source": [
    "%matplotlib inline\n",
    "import numpy as np\n",
    "import matplotlib.pyplot as plt"
   ]
  },
  {
   "cell_type": "code",
   "execution_count": 2,
   "metadata": {},
   "outputs": [],
   "source": [
    "M=10 #Mass of a Nonlinear oscillator\n",
    "m=1 #Mass of a linear oscillator\n",
    "q=2*np.sqrt(M/m) \n",
    "T=25 #Total time\n",
    "tau=0.01 #Time step\n",
    "k=0.1 #Elastic coeff"
   ]
  },
  {
   "cell_type": "code",
   "execution_count": 3,
   "metadata": {},
   "outputs": [],
   "source": [
    "def f(x): #Our driving force\n",
    "    return (0.01 - 0.5*x)/k"
   ]
  },
  {
   "cell_type": "code",
   "execution_count": 4,
   "metadata": {},
   "outputs": [],
   "source": [
    "XMTau=np.zeros(100)#Lists for our 100 oscillators\n",
    "XN=np.zeros(100)\n",
    "A1=([1]) #A list for our Nonlinear Oscillator\n",
    "XN[0]=1 #We consider that at the beginning the deviation is equal to one, and the system is not moving\n",
    "XMTau[0]=1\n",
    "t=tau\n",
    "n=0\n",
    "while(t<=T):\n",
    "    for i in range (0, 100):\n",
    "        if(i==0):\n",
    "            ans=tau**2*(f(XN[0])-XN[0]+XN[1])+2*XN[0]-XMTau[0]\n",
    "            A1.append(ans)\n",
    "            XMTau[0]=XN[0]\n",
    "            XN[0]=ans\n",
    "        if(i>0 and i<99):\n",
    "            ans=(q*tau/2)**2*(XN[i-1]+XN[i+1]-2*XN[i])+2*XN[i]-XMTau[i]\n",
    "            XMTau[i]=XN[i]\n",
    "            XN[i]=ans\n",
    "        if(i==99):\n",
    "            ans=(q*tau/2)**2*(XN[i-1]-2*XN[i])+2*XN[i]-XMTau[i]\n",
    "            XMTau[i]=XN[i]\n",
    "            XN[i]=ans\n",
    "    t+=tau\n",
    "    n+=1\n",
    "B1=([]) #A list for timesteps to build a plot\n",
    "for N in range (0,n+1):\n",
    "    B1.append(N*tau)"
   ]
  },
  {
   "cell_type": "markdown",
   "metadata": {},
   "source": [
    "Now, we want to compare the result with the following system:\n",
    "$$\n",
    "\\begin{cases}\n",
    "M\\ddot x = F(x,t) -k x + k\\,{\\rm Im} \\sum_{n=1}^{N_p} C_n \\mathcal{U}_n(t)\n",
    "\\\\\n",
    "\\frac{d}{d t}\\mathcal{U}_n(t) = x(t) - i p_n\\,\\mathcal{U}_n(t), \\quad n=1,...,N_p,\n",
    "\\end{cases}\n",
    "$$"
   ]
  },
  {
   "cell_type": "markdown",
   "metadata": {},
   "source": [
    "As a result of nondimensionalization we get:\n",
    "$$\n",
    "\\begin{cases}\n",
    "\\ddot X = f - X + q\\,{\\rm Im} \\sum_{n=1}^{N_p} C_n \\chi_n(\\tau)\n",
    "\\\\\n",
    "\\frac{d}{d t}\\chi_n(\\tau) = X(\\tau) - i q p_n\\,\\chi_n(\\tau), \\quad n=1,...,N_p,\n",
    "\\end{cases}\n",
    "$$\n",
    "Here, $q$ is again $2\\sqrt{\\frac{M}{m}}$, and again $f=\\frac{F}{k}$(because we consider a=1)"
   ]
  },
  {
   "cell_type": "markdown",
   "metadata": {},
   "source": [
    "To solve this with Finite difference method, together with an expression for the second derivative, we will need an expression for the first one:\n",
    "$$\\dot X(t) = \\frac{X(t+\\tau)-X(t)}{\\tau}$$\n",
    "Using this and expression for the second derivative, for our second system we get:\n",
    "$$\n",
    "\\begin{cases}\n",
    "X(t+\\tau)=\\tau^2\\left(f-X(t)+q\\,{\\rm Im} \\sum_{n=1}^{N_p} C_n \\chi_n(t)\\right)+2X(t)-X(t-\\tau)\n",
    "\\\\\n",
    "\\chi_k(t+\\tau)=\\tau(X(t)-q i p_k \\chi_k(t))+\\chi_k(t), k=1,..,N_p\n",
    "\\end{cases}\n",
    "$$"
   ]
  },
  {
   "cell_type": "markdown",
   "metadata": {},
   "source": [
    "Again, we will need 2 variables for previous states of X - 'XCur' for $X(t)$ and 'XLast' for $X(t-\\tau)$"
   ]
  },
  {
   "cell_type": "code",
   "execution_count": 25,
   "metadata": {},
   "outputs": [],
   "source": [
    "p = np.array([-0.98792527 - 0.15493113j, -0.83014934 - \n",
    "   0.55754109j, -0.34246102 - 0.93953204j, \n",
    "  0.34246102 - 0.93953204j, 0.83014934 - 0.55754109j, \n",
    "  0.98792527 - 0.15493113j])\n",
    "c = np.array([-0.08372344 - 0.19997088j, 0.47350709 - 0.57004249j, \n",
    "  0.9198268 + 0.76998944j, -0.9198268 + 0.76998944j, -0.47350709 - \n",
    "   0.57004249j, 0.08372344 - 0.19997088j]) #our parameters\n",
    "\n",
    "def summa(x): #A function for Imaginary part of summ in first equation for each period of time\n",
    "    r=0\n",
    "    for j in range(0,3):\n",
    "        r+=c[j]*chi[j]\n",
    "    return np.imag(r)"
   ]
  },
  {
   "cell_type": "code",
   "execution_count": 29,
   "metadata": {},
   "outputs": [],
   "source": [
    "chi=np.array([0,0,0], dtype=np.complex) #A list for chi\n",
    "XCur=1 \n",
    "XLast=1\n",
    "A2=([1]) #A list for X(t)\n",
    "t=tau\n",
    "while(t<=T):\n",
    "    y=tau**2*(f(XCur)-XCur+q*summa(XCur))+2*XCur-XLast\n",
    "    A2.append(y)\n",
    "    for i in range(0,3):\n",
    "        chi[i]=tau*(XCur-q*p[i]*chi[i]*1j)+chi[i]\n",
    "    XLast=XCur\n",
    "    XCur=y\n",
    "    t+=tau"
   ]
  },
  {
   "cell_type": "code",
   "execution_count": 30,
   "metadata": {},
   "outputs": [
    {
     "data": {
      "text/plain": [
       "[<matplotlib.lines.Line2D at 0x23d5b5ecc18>]"
      ]
     },
     "execution_count": 30,
     "metadata": {},
     "output_type": "execute_result"
    },
    {
     "data": {
      "image/png": "[encoded data removed]",
      "text/plain": [
       "<Figure size 432x288 with 1 Axes>"
      ]
     },
     "metadata": {
      "needs_background": "light"
     },
     "output_type": "display_data"
    }
   ],
   "source": [
    "plt.plot(B1,A1) #Building plots to compare results\n",
    "plt.plot(B1,A2)"
   ]
  },
  {
   "cell_type": "code",
   "execution_count": null,
   "metadata": {},
   "outputs": [],
   "source": []
  }
 ],
 "metadata": {
  "kernelspec": {
   "display_name": "Python 3",
   "language": "python",
   "name": "python3"
  },
  "language_info": {
   "codemirror_mode": {
    "name": "ipython",
    "version": 3
   },
   "file_extension": ".py",
   "mimetype": "text/x-python",
   "name": "python",
   "nbconvert_exporter": "python",
   "pygments_lexer": "ipython3",
   "version": "3.7.3"
  }
 },
 "nbformat": 4,
 "nbformat_minor": 4
}
